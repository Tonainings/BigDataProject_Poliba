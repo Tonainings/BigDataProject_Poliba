{
  "nbformat": 4,
  "nbformat_minor": 0,
  "metadata": {
    "colab": {
      "provenance": [],
      "authorship_tag": "ABX9TyM3Ckd+mUuk1jzBmAW5rQqQ",
      "include_colab_link": true
    },
    "kernelspec": {
      "name": "python3",
      "display_name": "Python 3"
    },
    "language_info": {
      "name": "python"
    }
  },
  "cells": [
    {
      "cell_type": "markdown",
      "metadata": {
        "id": "view-in-github",
        "colab_type": "text"
      },
      "source": [
        "<a href=\"https://colab.research.google.com/github/Tonainings/BigDataProject_Poliba/blob/main/V2_Regularization_ProjectPOLIBA_LogisticRegression.ipynb\" target=\"_parent\"><img src=\"https://colab.research.google.com/assets/colab-badge.svg\" alt=\"Open In Colab\"/></a>"
      ]
    },
    {
      "cell_type": "code",
      "execution_count": 14,
      "metadata": {
        "id": "JhwtTPPQd5Zl"
      },
      "outputs": [],
      "source": [
        "import numpy as np\n",
        "import pandas as pd\n",
        "from sklearn.preprocessing import normalize\n",
        "import math, copy\n",
        "import matplotlib.pyplot as plt\n",
        "from sklearn.preprocessing import MinMaxScaler"
      ]
    },
    {
      "cell_type": "code",
      "source": [
        "df=pd.read_csv(\"_student_prediction.csv\")\n",
        "\n",
        "df.head(10)"
      ],
      "metadata": {
        "id": "GZ1Y-D3feVz5"
      },
      "execution_count": null,
      "outputs": []
    },
    {
      "cell_type": "code",
      "source": [
        "print(df.info())"
      ],
      "metadata": {
        "id": "v2aZSEq8e3ce"
      },
      "execution_count": null,
      "outputs": []
    },
    {
      "cell_type": "code",
      "source": [
        "X1 = df[['AGE', 'GENDER', 'HS_TYPE', 'SCHOLARSHIP', 'WORK', 'ACTIVITY', 'PARTNER', 'SALARY', 'TRANSPORT', 'LIVING', 'MOTHER_EDU', 'FATHER_EDU', '#_SIBLINGS', 'KIDS', 'MOTHER_JOB', 'FATHER_JOB', 'STUDY_HRS', 'READ_FREQ', 'READ_FREQ_SCI', 'ATTEND_DEPT', 'IMPACT', 'ATTEND', 'PREP_STUDY', 'PREP_EXAM', 'NOTES', 'LISTENS', 'LIKES_DISCUSS', 'CLASSROOM', 'CUML_GPA', 'EXP_GPA']].to_numpy()                 #converte dataframe in array\n",
        "Y1 = df[['GRADE']].to_numpy()\n",
        "\n",
        "X2 = np.array(X1, dtype=float)                                                       #converte i valori della variabile in float64\n",
        "                                                                #scambia le righe con le colonne di un array, sicuramente funziona sia con matrici che con vettori\n",
        "Y2 = np.array(Y1, dtype=float)\n",
        "\n",
        "\n",
        "\n",
        "print(X2)\n",
        "print(Y2)\n",
        "\n",
        "W = np.array([1.0, 1.0, 1.0, 1.0, 1.0, 1.0, 1.0, 1.0, 1.0, 1.0, 1.0, 1.0, 1.0, 1.0, 1.0, 1.0, 1.0, 1.0, 1.0, 1.0, 1.0, 1.0, 1.0, 1.0, 1.0, 1.0, 1.0, 1.0, 1.0, 1.0, ])\n",
        "b = 0"
      ],
      "metadata": {
        "id": "cukc47SZe8Aw"
      },
      "execution_count": null,
      "outputs": []
    },
    {
      "cell_type": "markdown",
      "source": [
        "Squared normalization"
      ],
      "metadata": {
        "id": "CadcpnLewkJm"
      }
    },
    {
      "cell_type": "code",
      "source": [
        "X = normalize(X2, norm='l2')"
      ],
      "metadata": {
        "id": "RAF-ZOhxwZYE"
      },
      "execution_count": 18,
      "outputs": []
    },
    {
      "cell_type": "markdown",
      "source": [
        "MinMaxRegularization"
      ],
      "metadata": {
        "id": "wp1-iC6Twp-W"
      }
    },
    {
      "cell_type": "code",
      "source": [
        "scaler = MinMaxScaler(feature_range=(0, 10))                                      # regularization\n",
        "\n",
        "X = scaler.fit_transform(X2)\n",
        "\n",
        "\n",
        "\n",
        "scaler = MinMaxScaler(feature_range=(0, 30))\n",
        "\n",
        "y = scaler.fit_transform(Y2)\n",
        "\n",
        "print(X)\n",
        "print(y)"
      ],
      "metadata": {
        "id": "4J3dxDO9wops",
        "colab": {
          "base_uri": "https://localhost:8080/"
        },
        "outputId": "75c54f95-9115-4e9c-f5fc-9ee73cac0c98"
      },
      "execution_count": 30,
      "outputs": [
        {
          "output_type": "stream",
          "name": "stdout",
          "text": [
            "[[ 5.         10.         10.         ...  5.          0.\n",
            "   0.        ]\n",
            " [ 5.         10.         10.         ...  5.          2.5\n",
            "   6.66666667]\n",
            " [ 5.         10.          5.         ...  0.          2.5\n",
            "   3.33333333]\n",
            " ...\n",
            " [ 0.          0.          0.         ...  0.          7.5\n",
            "   6.66666667]\n",
            " [ 5.          0.          5.         ...  0.         10.\n",
            "   6.66666667]\n",
            " [ 0.          0.          0.         ...  0.         10.\n",
            "  10.        ]]\n",
            "[[ 4.28571429]\n",
            " [ 4.28571429]\n",
            " [ 4.28571429]\n",
            " [ 4.28571429]\n",
            " [ 4.28571429]\n",
            " [ 8.57142857]\n",
            " [21.42857143]\n",
            " [ 8.57142857]\n",
            " [21.42857143]\n",
            " [ 0.        ]\n",
            " [ 8.57142857]\n",
            " [ 0.        ]\n",
            " [ 0.        ]\n",
            " [ 4.28571429]\n",
            " [ 8.57142857]\n",
            " [ 8.57142857]\n",
            " [ 4.28571429]\n",
            " [ 8.57142857]\n",
            " [ 8.57142857]\n",
            " [12.85714286]\n",
            " [ 4.28571429]\n",
            " [ 4.28571429]\n",
            " [12.85714286]\n",
            " [ 4.28571429]\n",
            " [ 8.57142857]\n",
            " [12.85714286]\n",
            " [ 4.28571429]\n",
            " [ 4.28571429]\n",
            " [12.85714286]\n",
            " [21.42857143]\n",
            " [21.42857143]\n",
            " [12.85714286]\n",
            " [ 4.28571429]\n",
            " [ 8.57142857]\n",
            " [ 8.57142857]\n",
            " [ 4.28571429]\n",
            " [ 8.57142857]\n",
            " [ 4.28571429]\n",
            " [ 8.57142857]\n",
            " [ 4.28571429]\n",
            " [ 4.28571429]\n",
            " [ 4.28571429]\n",
            " [ 4.28571429]\n",
            " [17.14285714]\n",
            " [ 4.28571429]\n",
            " [12.85714286]\n",
            " [21.42857143]\n",
            " [12.85714286]\n",
            " [ 4.28571429]\n",
            " [ 8.57142857]\n",
            " [ 4.28571429]\n",
            " [17.14285714]\n",
            " [ 4.28571429]\n",
            " [21.42857143]\n",
            " [12.85714286]\n",
            " [12.85714286]\n",
            " [21.42857143]\n",
            " [17.14285714]\n",
            " [12.85714286]\n",
            " [21.42857143]\n",
            " [ 8.57142857]\n",
            " [21.42857143]\n",
            " [12.85714286]\n",
            " [21.42857143]\n",
            " [12.85714286]\n",
            " [ 8.57142857]\n",
            " [21.42857143]\n",
            " [ 4.28571429]\n",
            " [21.42857143]\n",
            " [21.42857143]\n",
            " [30.        ]\n",
            " [25.71428571]\n",
            " [25.71428571]\n",
            " [25.71428571]\n",
            " [30.        ]\n",
            " [30.        ]\n",
            " [17.14285714]\n",
            " [30.        ]\n",
            " [17.14285714]\n",
            " [12.85714286]\n",
            " [17.14285714]\n",
            " [12.85714286]\n",
            " [30.        ]\n",
            " [30.        ]\n",
            " [30.        ]\n",
            " [17.14285714]\n",
            " [21.42857143]\n",
            " [25.71428571]\n",
            " [25.71428571]\n",
            " [25.71428571]\n",
            " [25.71428571]\n",
            " [25.71428571]\n",
            " [30.        ]\n",
            " [17.14285714]\n",
            " [25.71428571]\n",
            " [21.42857143]\n",
            " [30.        ]\n",
            " [25.71428571]\n",
            " [30.        ]\n",
            " [30.        ]\n",
            " [25.71428571]\n",
            " [30.        ]\n",
            " [30.        ]\n",
            " [30.        ]\n",
            " [12.85714286]\n",
            " [30.        ]\n",
            " [30.        ]\n",
            " [25.71428571]\n",
            " [25.71428571]\n",
            " [30.        ]\n",
            " [ 8.57142857]\n",
            " [ 8.57142857]\n",
            " [ 8.57142857]\n",
            " [ 4.28571429]\n",
            " [ 8.57142857]\n",
            " [ 4.28571429]\n",
            " [ 4.28571429]\n",
            " [ 4.28571429]\n",
            " [ 4.28571429]\n",
            " [ 8.57142857]\n",
            " [ 4.28571429]\n",
            " [ 0.        ]\n",
            " [ 8.57142857]\n",
            " [ 4.28571429]\n",
            " [12.85714286]\n",
            " [ 8.57142857]\n",
            " [12.85714286]\n",
            " [ 4.28571429]\n",
            " [ 0.        ]\n",
            " [12.85714286]\n",
            " [ 4.28571429]\n",
            " [17.14285714]\n",
            " [12.85714286]\n",
            " [12.85714286]\n",
            " [ 4.28571429]\n",
            " [ 8.57142857]\n",
            " [ 0.        ]\n",
            " [ 8.57142857]\n",
            " [ 0.        ]\n",
            " [ 0.        ]\n",
            " [21.42857143]\n",
            " [21.42857143]\n",
            " [ 4.28571429]\n",
            " [17.14285714]\n",
            " [12.85714286]]\n"
          ]
        }
      ]
    },
    {
      "cell_type": "code",
      "source": [
        "print(X.shape)\n",
        "print(y.shape)"
      ],
      "metadata": {
        "colab": {
          "base_uri": "https://localhost:8080/"
        },
        "id": "ZxB0dyuHm0Fo",
        "outputId": "f52a1db4-928c-4270-c3db-c46bcebacf74"
      },
      "execution_count": 20,
      "outputs": [
        {
          "output_type": "stream",
          "name": "stdout",
          "text": [
            "(145, 30)\n",
            "(145, 1)\n"
          ]
        }
      ]
    },
    {
      "cell_type": "markdown",
      "source": [
        "# Logistic Regression"
      ],
      "metadata": {
        "id": "NSzFh9LXseXZ"
      }
    },
    {
      "cell_type": "code",
      "source": [
        "def sig(x):\n",
        " return 1/(1 + np.exp(-x))"
      ],
      "metadata": {
        "id": "cE9MpS0csitx"
      },
      "execution_count": 22,
      "outputs": []
    },
    {
      "cell_type": "markdown",
      "source": [
        "Cost compute"
      ],
      "metadata": {
        "id": "SA5b_IHsbU8M"
      }
    },
    {
      "cell_type": "code",
      "source": [
        "def compute_multiple_cost(X, y, W, b):\n",
        "\n",
        "  m = X.shape[0]\n",
        "  cost = 0\n",
        "\n",
        "  for i in range(m):\n",
        "    z_i = np.dot(X[i],W) + b\n",
        "    f_xi = sig(z_i)\n",
        "    cost += -y[i]*np.log(f_xi) - (1-y[i])*np.log(1-f_xi)\n",
        "  total_cost = (1/(2*m))*cost\n",
        "  return total_cost\n",
        "\n",
        "total_cost = compute_multiple_cost(X, y, W, b)\n",
        "\n",
        "\n",
        "\n",
        "print ('for b={}, total_cost={}'.format(b,total_cost))\n",
        "\n"
      ],
      "metadata": {
        "colab": {
          "base_uri": "https://localhost:8080/"
        },
        "id": "Dd31scyasovx",
        "outputId": "67af7430-e029-4eda-bf0a-626f9ff0f7e1"
      },
      "execution_count": 23,
      "outputs": [
        {
          "output_type": "stream",
          "name": "stdout",
          "text": [
            "for b=0, total_cost=[nan]\n"
          ]
        },
        {
          "output_type": "stream",
          "name": "stderr",
          "text": [
            "<ipython-input-23-024f0b29a243>:9: RuntimeWarning: divide by zero encountered in log\n",
            "  cost += -y[i]*np.log(f_xi) - (1-y[i])*np.log(1-f_xi)\n",
            "<ipython-input-23-024f0b29a243>:9: RuntimeWarning: invalid value encountered in add\n",
            "  cost += -y[i]*np.log(f_xi) - (1-y[i])*np.log(1-f_xi)\n"
          ]
        }
      ]
    },
    {
      "cell_type": "markdown",
      "source": [
        "Gradient compute"
      ],
      "metadata": {
        "id": "JQN3KtCgbc_k"
      }
    },
    {
      "cell_type": "code",
      "source": [
        "def compute_multiple_gradient(X, y, W, b):\n",
        "\n",
        "  m = X.shape[0] # Number of training samples\n",
        "  n = X.shape[1] # Number of feature classes\n",
        "\n",
        "  dj_dW = np.zeros(n)\n",
        "  dj_db = 0\n",
        "\n",
        "  for i in range(m): # For each sample\n",
        "    z_i = np.dot(X[i],W) + b\n",
        "    f_xi = sig(z_i) # Prediction\n",
        "    err_i = f_xi - y[i] # Prediction - Ground truth\n",
        "    for j in range(n): # For each feature\n",
        "      x_ji = X[i,j]\n",
        "      dj_dW[j] = dj_dW[j] + (1/m)*x_ji*err_i\n",
        "    dj_db = dj_db + (1/m)*err_i\n",
        "  return dj_dW, dj_db\n",
        "\n",
        "dj_dW, dj_db = compute_multiple_gradient(X, y, W, b)\n",
        "print(dj_dW, dj_db)\n"
      ],
      "metadata": {
        "colab": {
          "base_uri": "https://localhost:8080/"
        },
        "id": "Dyfbd9A2th0D",
        "outputId": "11d124c9-a2ed-4e51-f96b-f4aff5cd711b"
      },
      "execution_count": 25,
      "outputs": [
        {
          "output_type": "stream",
          "name": "stdout",
          "text": [
            "[ -37.09359606  -92.42364532  -63.25615764  -82.97783251  -92.39408867\n",
            "  -74.09852217  -71.9408867   -16.16502463  -21.37931034  -31.84893268\n",
            "  -34.43940887  -43.31231527  -60.65517241  -12.5862069   -43.00738916\n",
            "  -56.591133    -37.78817734  -65.76847291  -65.12807882  -20.32512315\n",
            "   -7.68472906  -25.36945813  -22.10344828  -12.02955665 -100.30541872\n",
            "  -70.38916256  -93.5270936   -55.96551724  -77.74384236  -80.85385878] [-12.83251232]\n"
          ]
        }
      ]
    },
    {
      "cell_type": "markdown",
      "source": [
        "Gradient descent"
      ],
      "metadata": {
        "id": "_osbRLIcb6T4"
      }
    },
    {
      "cell_type": "code",
      "source": [
        "def multiple_gradient_descent(X, y,  W_in, b_in, alpha,  num_iters,  cost_function, gradient_function):\n",
        "\n",
        "  W = W_in\n",
        "  b = b_in\n",
        "\n",
        "  for itt in range(num_iters):\n",
        "    dj_dw, dj_db = compute_multiple_gradient(X, y, W, b)\n",
        "    W = W - alpha*dj_dw\n",
        "    b = b - alpha*dj_db\n",
        "    cost = compute_multiple_cost(X, y, W, b)\n",
        "\n",
        "    if itt % 100 == 0:\n",
        "      print('Iteration {}: (w,b) = ({}, {}),\\n cost = {}'.format(itt, W, b, cost))\n",
        "\n",
        "  return W, b, cost\n",
        "\n",
        "W_in = np.array([1.0, 1.0, 1.0, 1.0, 1.0, 1.0, 1.0, 1.0, 1.0, 1.0, 1.0, 1.0, 1.0, 1.0, 1.0, 1.0, 1.0, 1.0, 1.0, 1.0, 1.0, 1.0, 1.0, 1.0, 1.0, 1.0, 1.0, 1.0, 1.0, 1.0, ])\n",
        "b_in = 1\n",
        "\n",
        "alpha = 0.002\n",
        "num_iters = 500\n",
        "\n",
        "multiple_gradient_descent(X, y,  W_in, b_in, alpha,  num_iters, compute_multiple_cost, compute_multiple_gradient)\n"
      ],
      "metadata": {
        "colab": {
          "base_uri": "https://localhost:8080/",
          "height": 755
        },
        "id": "eGAGDr9MtqsV",
        "outputId": "62b7ea42-e30f-4182-c417-f68ebdb7409e"
      },
      "execution_count": 29,
      "outputs": [
        {
          "output_type": "stream",
          "name": "stderr",
          "text": [
            "<ipython-input-23-024f0b29a243>:9: RuntimeWarning: divide by zero encountered in log\n",
            "  cost += -y[i]*np.log(f_xi) - (1-y[i])*np.log(1-f_xi)\n",
            "<ipython-input-23-024f0b29a243>:9: RuntimeWarning: invalid value encountered in add\n",
            "  cost += -y[i]*np.log(f_xi) - (1-y[i])*np.log(1-f_xi)\n"
          ]
        },
        {
          "output_type": "stream",
          "name": "stdout",
          "text": [
            "Iteration 0: (w,b) = ([1.00074187 1.00184847 1.00126512 1.00165956 1.00184788 1.00148197\n",
            " 1.00143882 1.0003233  1.00042759 1.00063698 1.00068879 1.00086625\n",
            " 1.0012131  1.00025172 1.00086015 1.00113182 1.00075576 1.00131537\n",
            " 1.00130256 1.0004065  1.00015369 1.00050739 1.00044207 1.00024059\n",
            " 1.00200611 1.00140778 1.00187054 1.00111931 1.00155488 1.00161708], [1.00025665]),\n",
            " cost = [nan]\n",
            "Iteration 100: (w,b) = ([1.07492906 1.18669576 1.12777744 1.16761522 1.18663606 1.14967901\n",
            " 1.14532059 1.03265335 1.04318621 1.06433484 1.06956761 1.08749088\n",
            " 1.12252345 1.02542414 1.08687493 1.11431409 1.07633212 1.13285232\n",
            " 1.13155872 1.04105675 1.01552315 1.05124631 1.04464897 1.0242997\n",
            " 1.20261695 1.14218611 1.18892473 1.11305034 1.15704256 1.16332479], [1.02592167]),\n",
            " cost = [nan]\n",
            "Iteration 200: (w,b) = ([1.14911626 1.37154305 1.25428975 1.33357089 1.37142424 1.29787606\n",
            " 1.28920236 1.0649834  1.08594483 1.12803271 1.13844642 1.17411551\n",
            " 1.24383379 1.05059655 1.1728897  1.22749635 1.15190847 1.26438926\n",
            " 1.26181488 1.081707   1.03089261 1.10198522 1.08885586 1.04835882\n",
            " 1.40322778 1.28296443 1.37597892 1.22498138 1.31253025 1.32503251], [1.0515867]),\n",
            " cost = [nan]\n"
          ]
        },
        {
          "output_type": "error",
          "ename": "KeyboardInterrupt",
          "evalue": "ignored",
          "traceback": [
            "\u001b[0;31m---------------------------------------------------------------------------\u001b[0m",
            "\u001b[0;31mKeyboardInterrupt\u001b[0m                         Traceback (most recent call last)",
            "\u001b[0;32m<ipython-input-29-501ba31bf228>\u001b[0m in \u001b[0;36m<cell line: 23>\u001b[0;34m()\u001b[0m\n\u001b[1;32m     21\u001b[0m \u001b[0mnum_iters\u001b[0m \u001b[0;34m=\u001b[0m \u001b[0;36m500\u001b[0m\u001b[0;34m\u001b[0m\u001b[0;34m\u001b[0m\u001b[0m\n\u001b[1;32m     22\u001b[0m \u001b[0;34m\u001b[0m\u001b[0m\n\u001b[0;32m---> 23\u001b[0;31m \u001b[0mmultiple_gradient_descent\u001b[0m\u001b[0;34m(\u001b[0m\u001b[0mX\u001b[0m\u001b[0;34m,\u001b[0m \u001b[0my\u001b[0m\u001b[0;34m,\u001b[0m  \u001b[0mW_in\u001b[0m\u001b[0;34m,\u001b[0m \u001b[0mb_in\u001b[0m\u001b[0;34m,\u001b[0m \u001b[0malpha\u001b[0m\u001b[0;34m,\u001b[0m  \u001b[0mnum_iters\u001b[0m\u001b[0;34m,\u001b[0m \u001b[0mcompute_multiple_cost\u001b[0m\u001b[0;34m,\u001b[0m \u001b[0mcompute_multiple_gradient\u001b[0m\u001b[0;34m)\u001b[0m\u001b[0;34m\u001b[0m\u001b[0;34m\u001b[0m\u001b[0m\n\u001b[0m",
            "\u001b[0;32m<ipython-input-29-501ba31bf228>\u001b[0m in \u001b[0;36mmultiple_gradient_descent\u001b[0;34m(X, y, W_in, b_in, alpha, num_iters, cost_function, gradient_function)\u001b[0m\n\u001b[1;32m      5\u001b[0m \u001b[0;34m\u001b[0m\u001b[0m\n\u001b[1;32m      6\u001b[0m   \u001b[0;32mfor\u001b[0m \u001b[0mitt\u001b[0m \u001b[0;32min\u001b[0m \u001b[0mrange\u001b[0m\u001b[0;34m(\u001b[0m\u001b[0mnum_iters\u001b[0m\u001b[0;34m)\u001b[0m\u001b[0;34m:\u001b[0m\u001b[0;34m\u001b[0m\u001b[0;34m\u001b[0m\u001b[0m\n\u001b[0;32m----> 7\u001b[0;31m     \u001b[0mdj_dw\u001b[0m\u001b[0;34m,\u001b[0m \u001b[0mdj_db\u001b[0m \u001b[0;34m=\u001b[0m \u001b[0mcompute_multiple_gradient\u001b[0m\u001b[0;34m(\u001b[0m\u001b[0mX\u001b[0m\u001b[0;34m,\u001b[0m \u001b[0my\u001b[0m\u001b[0;34m,\u001b[0m \u001b[0mW\u001b[0m\u001b[0;34m,\u001b[0m \u001b[0mb\u001b[0m\u001b[0;34m)\u001b[0m\u001b[0;34m\u001b[0m\u001b[0;34m\u001b[0m\u001b[0m\n\u001b[0m\u001b[1;32m      8\u001b[0m     \u001b[0mW\u001b[0m \u001b[0;34m=\u001b[0m \u001b[0mW\u001b[0m \u001b[0;34m-\u001b[0m \u001b[0malpha\u001b[0m\u001b[0;34m*\u001b[0m\u001b[0mdj_dw\u001b[0m\u001b[0;34m\u001b[0m\u001b[0;34m\u001b[0m\u001b[0m\n\u001b[1;32m      9\u001b[0m     \u001b[0mb\u001b[0m \u001b[0;34m=\u001b[0m \u001b[0mb\u001b[0m \u001b[0;34m-\u001b[0m \u001b[0malpha\u001b[0m\u001b[0;34m*\u001b[0m\u001b[0mdj_db\u001b[0m\u001b[0;34m\u001b[0m\u001b[0;34m\u001b[0m\u001b[0m\n",
            "\u001b[0;32m<ipython-input-25-0628f26b6ef6>\u001b[0m in \u001b[0;36mcompute_multiple_gradient\u001b[0;34m(X, y, W, b)\u001b[0m\n\u001b[1;32m     13\u001b[0m     \u001b[0;32mfor\u001b[0m \u001b[0mj\u001b[0m \u001b[0;32min\u001b[0m \u001b[0mrange\u001b[0m\u001b[0;34m(\u001b[0m\u001b[0mn\u001b[0m\u001b[0;34m)\u001b[0m\u001b[0;34m:\u001b[0m \u001b[0;31m# For each feature\u001b[0m\u001b[0;34m\u001b[0m\u001b[0;34m\u001b[0m\u001b[0m\n\u001b[1;32m     14\u001b[0m       \u001b[0mx_ji\u001b[0m \u001b[0;34m=\u001b[0m \u001b[0mX\u001b[0m\u001b[0;34m[\u001b[0m\u001b[0mi\u001b[0m\u001b[0;34m,\u001b[0m\u001b[0mj\u001b[0m\u001b[0;34m]\u001b[0m\u001b[0;34m\u001b[0m\u001b[0;34m\u001b[0m\u001b[0m\n\u001b[0;32m---> 15\u001b[0;31m       \u001b[0mdj_dW\u001b[0m\u001b[0;34m[\u001b[0m\u001b[0mj\u001b[0m\u001b[0;34m]\u001b[0m \u001b[0;34m=\u001b[0m \u001b[0mdj_dW\u001b[0m\u001b[0;34m[\u001b[0m\u001b[0mj\u001b[0m\u001b[0;34m]\u001b[0m \u001b[0;34m+\u001b[0m \u001b[0;34m(\u001b[0m\u001b[0;36m1\u001b[0m\u001b[0;34m/\u001b[0m\u001b[0mm\u001b[0m\u001b[0;34m)\u001b[0m\u001b[0;34m*\u001b[0m\u001b[0mx_ji\u001b[0m\u001b[0;34m*\u001b[0m\u001b[0merr_i\u001b[0m\u001b[0;34m\u001b[0m\u001b[0;34m\u001b[0m\u001b[0m\n\u001b[0m\u001b[1;32m     16\u001b[0m     \u001b[0mdj_db\u001b[0m \u001b[0;34m=\u001b[0m \u001b[0mdj_db\u001b[0m \u001b[0;34m+\u001b[0m \u001b[0;34m(\u001b[0m\u001b[0;36m1\u001b[0m\u001b[0;34m/\u001b[0m\u001b[0mm\u001b[0m\u001b[0;34m)\u001b[0m\u001b[0;34m*\u001b[0m\u001b[0merr_i\u001b[0m\u001b[0;34m\u001b[0m\u001b[0;34m\u001b[0m\u001b[0m\n\u001b[1;32m     17\u001b[0m   \u001b[0;32mreturn\u001b[0m \u001b[0mdj_dW\u001b[0m\u001b[0;34m,\u001b[0m \u001b[0mdj_db\u001b[0m\u001b[0;34m\u001b[0m\u001b[0;34m\u001b[0m\u001b[0m\n",
            "\u001b[0;31mKeyboardInterrupt\u001b[0m: "
          ]
        }
      ]
    }
  ]
}