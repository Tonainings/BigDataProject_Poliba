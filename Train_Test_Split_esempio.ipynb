{
  "nbformat": 4,
  "nbformat_minor": 0,
  "metadata": {
    "colab": {
      "provenance": [],
      "authorship_tag": "ABX9TyNm6rsxwt2HV8boaX4NN/M5",
      "include_colab_link": true
    },
    "kernelspec": {
      "name": "python3",
      "display_name": "Python 3"
    },
    "language_info": {
      "name": "python"
    }
  },
  "cells": [
    {
      "cell_type": "markdown",
      "metadata": {
        "id": "view-in-github",
        "colab_type": "text"
      },
      "source": [
        "<a href=\"https://colab.research.google.com/github/Tonainings/BigDataProject_Poliba/blob/main/Train_Test_Split_esempio.ipynb\" target=\"_parent\"><img src=\"https://colab.research.google.com/assets/colab-badge.svg\" alt=\"Open In Colab\"/></a>"
      ]
    },
    {
      "cell_type": "code",
      "execution_count": 1,
      "metadata": {
        "id": "yI6DZAf6lBBZ"
      },
      "outputs": [],
      "source": [
        "import numpy as np\n",
        "import pandas as pd\n",
        "from sklearn.preprocessing import normalize\n",
        "import math, copy\n",
        "import matplotlib.pyplot as plt\n",
        "from sklearn.preprocessing import MinMaxScaler"
      ]
    },
    {
      "cell_type": "code",
      "source": [
        "# Upload Dataset\n",
        "df=pd.read_csv(\"_student_prediction.csv\")\n",
        "\n",
        "# Define arrays\n",
        "X1 = df[['AGE', 'GENDER', 'HS_TYPE', 'SCHOLARSHIP', 'WORK', 'ACTIVITY', 'PARTNER', 'SALARY', 'TRANSPORT', 'LIVING', 'MOTHER_EDU', 'FATHER_EDU', '#_SIBLINGS', 'KIDS', 'MOTHER_JOB', 'FATHER_JOB', 'STUDY_HRS', 'READ_FREQ', 'READ_FREQ_SCI', 'ATTEND_DEPT', 'IMPACT', 'ATTEND', 'PREP_STUDY', 'PREP_EXAM', 'NOTES', 'LISTENS', 'LIKES_DISCUSS', 'CLASSROOM', 'CUML_GPA', 'EXP_GPA']].to_numpy()                 #converte dataframe in array\n",
        "Y1 = df[['GRADE']].to_numpy()\n",
        "\n",
        "X2 = np.array(X1, dtype=float)\n",
        "Y2 = np.array(Y1, dtype=float)\n",
        "\n",
        "# regularization\n",
        "scaler = MinMaxScaler(feature_range=(0, 30))\n",
        "X = scaler.fit_transform(X2)\n",
        "\n",
        "scaler = MinMaxScaler(feature_range=(0, 30))\n",
        "Yt = scaler.fit_transform(Y2)\n",
        "\n",
        "# Y becomes 1d array\n",
        "Y = np.ravel(Yt)\n",
        "\n",
        "print(X.shape)\n",
        "print(Y.shape)"
      ],
      "metadata": {
        "colab": {
          "base_uri": "https://localhost:8080/"
        },
        "id": "wN9NsXF1lU0B",
        "outputId": "a78343e6-7504-4dcd-82ca-ea7fb79b6937"
      },
      "execution_count": 6,
      "outputs": [
        {
          "output_type": "stream",
          "name": "stdout",
          "text": [
            "(145, 30)\n",
            "(145,)\n"
          ]
        }
      ]
    },
    {
      "cell_type": "code",
      "source": [
        "from sklearn.model_selection import train_test_split\n",
        "\n",
        "\n",
        "X_train, X_test,Y_train, Y_test = train_test_split(X, Y, test_size=0.3)\n",
        "\n",
        "print(\"Array originale:\\n\", X)\n",
        "print(\"Array diviso per colonne:\\n X_train:\", X_train, \"\\n X_test:\", X_test, \"\\n Y_train:\",Y_train, \"\\n Y_test:\",Y_test)\n",
        "\n",
        "print(\"X_train shape:\", X_train.shape)\n",
        "print(\"X_test shape:\", X_test.shape)\n",
        "print(\"Y_train shape:\", Y_train.shape)\n",
        "print(\"Y_test shape:\", Y_test.shape)"
      ],
      "metadata": {
        "colab": {
          "base_uri": "https://localhost:8080/"
        },
        "id": "wsDIlU7tlCCM",
        "outputId": "1399c284-b4cd-480f-c383-c492486d7c85"
      },
      "execution_count": 7,
      "outputs": [
        {
          "output_type": "stream",
          "name": "stdout",
          "text": [
            "Array originale:\n",
            " [[15.  30.  30.  ... 15.   0.   0. ]\n",
            " [15.  30.  30.  ... 15.   7.5 20. ]\n",
            " [15.  30.  15.  ...  0.   7.5 10. ]\n",
            " ...\n",
            " [ 0.   0.   0.  ...  0.  22.5 20. ]\n",
            " [15.   0.  15.  ...  0.  30.  20. ]\n",
            " [ 0.   0.   0.  ...  0.  30.  30. ]]\n",
            "Array diviso per colonne:\n",
            " X_train: [[ 0.   0.   0.  ...  0.   7.5 10. ]\n",
            " [15.  30.  15.  ...  0.  22.5 10. ]\n",
            " [15.  30.  15.  ... 30.  30.  30. ]\n",
            " ...\n",
            " [15.  30.  15.  ... 15.  30.  30. ]\n",
            " [ 0.   0.   0.  ... 30.  22.5 10. ]\n",
            " [ 0.   0.   0.  ... 30.  22.5 20. ]] \n",
            " X_test: [[15.  30.  15.  ... 30.  15.  10. ]\n",
            " [15.  30.  15.  ... 15.  22.5 30. ]\n",
            " [15.  30.  15.  ... 15.   7.5  0. ]\n",
            " ...\n",
            " [15.   0.  30.  ...  0.  22.5 10. ]\n",
            " [ 0.  30.  15.  ... 15.  15.  20. ]\n",
            " [ 0.  30.  15.  ... 30.  22.5 20. ]] \n",
            " Y_train: [12.85714286 21.42857143 21.42857143 25.71428571 12.85714286  8.57142857\n",
            "  4.28571429  4.28571429 21.42857143 25.71428571  8.57142857  8.57142857\n",
            "  4.28571429  8.57142857  4.28571429 30.         12.85714286  8.57142857\n",
            "  4.28571429 30.          4.28571429 17.14285714 12.85714286 30.\n",
            " 30.          4.28571429 12.85714286 30.          8.57142857  4.28571429\n",
            "  8.57142857  4.28571429  8.57142857 12.85714286 25.71428571 30.\n",
            "  8.57142857  8.57142857  0.         25.71428571  4.28571429 12.85714286\n",
            " 21.42857143 21.42857143 30.          4.28571429  4.28571429  4.28571429\n",
            " 30.          4.28571429 21.42857143 21.42857143 21.42857143 25.71428571\n",
            " 25.71428571  4.28571429 25.71428571  4.28571429 25.71428571 12.85714286\n",
            " 12.85714286 12.85714286  4.28571429  4.28571429  0.          8.57142857\n",
            " 25.71428571  8.57142857  0.         12.85714286 17.14285714  8.57142857\n",
            "  4.28571429  8.57142857 21.42857143 12.85714286 30.          4.28571429\n",
            "  4.28571429  4.28571429 17.14285714 30.         21.42857143 17.14285714\n",
            "  8.57142857  4.28571429 12.85714286  0.         30.          8.57142857\n",
            "  4.28571429  4.28571429  8.57142857 12.85714286 17.14285714 25.71428571\n",
            " 30.         30.         25.71428571  0.          0.        ] \n",
            " Y_test: [25.71428571 12.85714286  4.28571429 12.85714286 21.42857143  4.28571429\n",
            "  4.28571429 12.85714286  4.28571429  4.28571429 25.71428571  8.57142857\n",
            " 21.42857143 30.         21.42857143 12.85714286 17.14285714 21.42857143\n",
            " 21.42857143 12.85714286  4.28571429 21.42857143 12.85714286  8.57142857\n",
            "  8.57142857  8.57142857 21.42857143  4.28571429 12.85714286 17.14285714\n",
            "  4.28571429  8.57142857 17.14285714 17.14285714 30.         30.\n",
            "  0.          4.28571429  8.57142857  4.28571429  0.          8.57142857\n",
            " 30.         17.14285714]\n",
            "X_train shape: (101, 30)\n",
            "X_test shape: (44, 30)\n",
            "Y_train shape: (101,)\n",
            "Y_test shape: (44,)\n"
          ]
        }
      ]
    },
    {
      "cell_type": "code",
      "source": [],
      "metadata": {
        "id": "ULePV3c_mE6C"
      },
      "execution_count": null,
      "outputs": []
    }
  ]
}