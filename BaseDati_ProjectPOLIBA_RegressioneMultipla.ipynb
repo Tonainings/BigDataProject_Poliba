{
  "nbformat": 4,
  "nbformat_minor": 0,
  "metadata": {
    "colab": {
      "provenance": [],
      "authorship_tag": "ABX9TyOp695OvcSudXhe1BOqepyW",
      "include_colab_link": true
    },
    "kernelspec": {
      "name": "python3",
      "display_name": "Python 3"
    },
    "language_info": {
      "name": "python"
    }
  },
  "cells": [
    {
      "cell_type": "markdown",
      "metadata": {
        "id": "view-in-github",
        "colab_type": "text"
      },
      "source": [
        "<a href=\"https://colab.research.google.com/github/Tonainings/BigDataProject_Poliba/blob/main/BaseDati_ProjectPOLIBA_RegressioneMultipla.ipynb\" target=\"_parent\"><img src=\"https://colab.research.google.com/assets/colab-badge.svg\" alt=\"Open In Colab\"/></a>"
      ]
    },
    {
      "cell_type": "code",
      "execution_count": null,
      "metadata": {
        "id": "HQ4Xnw6Oe0nv"
      },
      "outputs": [],
      "source": []
    },
    {
      "cell_type": "code",
      "execution_count": null,
      "metadata": {
        "id": "JhwtTPPQd5Zl"
      },
      "outputs": [],
      "source": [
        "import numpy as np\n",
        "import pandas as pd\n",
        "from sklearn.preprocessing import normalize\n",
        "import math, copy\n",
        "import matplotlib.pyplot as plt\n",
        "from sklearn.preprocessing import MinMaxScaler"
      ]
    },
    {
      "cell_type": "code",
      "source": [
        "df=pd.read_csv(\"_student_prediction.csv\")\n",
        "\n",
        "df.head(10)"
      ],
      "metadata": {
        "id": "GZ1Y-D3feVz5"
      },
      "execution_count": null,
      "outputs": []
    },
    {
      "cell_type": "code",
      "source": [
        "print(df.info())"
      ],
      "metadata": {
        "id": "v2aZSEq8e3ce"
      },
      "execution_count": null,
      "outputs": []
    },
    {
      "cell_type": "code",
      "source": [
        "X1 = df[['AGE', 'GENDER', 'HS_TYPE', 'SCHOLARSHIP', 'WORK', 'ACTIVITY', 'PARTNER', 'SALARY', 'TRANSPORT', 'LIVING', 'MOTHER_EDU', 'FATHER_EDU', '#_SIBLINGS', 'KIDS', 'MOTHER_JOB', 'FATHER_JOB', 'STUDY_HRS', 'READ_FREQ', 'READ_FREQ_SCI', 'ATTEND_DEPT', 'IMPACT', 'ATTEND', 'PREP_STUDY', 'PREP_EXAM', 'NOTES', 'LISTENS', 'LIKES_DISCUSS', 'CLASSROOM', 'CUML_GPA', 'EXP_GPA']].to_numpy()                 #converte dataframe in array\n",
        "Y1 = df[['GRADE']].to_numpy()\n",
        "\n",
        "X2 = np.array(X1, dtype=float)                                                       #converte i valori della variabile in float64\n",
        "                                                                #scambia le righe con le colonne di un array, sicuramente funziona sia con matrici che con vettori\n",
        "Y2 = np.array(Y1, dtype=float)\n",
        "\n",
        "\n",
        "\n",
        "print(X2)\n",
        "\n",
        "\n",
        "\n",
        "print(Y2)\n",
        "\n"
      ],
      "metadata": {
        "id": "cukc47SZe8Aw"
      },
      "execution_count": null,
      "outputs": []
    },
    {
      "cell_type": "markdown",
      "source": [
        "Squared normalization"
      ],
      "metadata": {
        "id": "CadcpnLewkJm"
      }
    },
    {
      "cell_type": "code",
      "source": [
        "X = normalize(X2, norm='l2')"
      ],
      "metadata": {
        "id": "RAF-ZOhxwZYE"
      },
      "execution_count": null,
      "outputs": []
    },
    {
      "cell_type": "markdown",
      "source": [
        "MinMaxRegularization"
      ],
      "metadata": {
        "id": "wp1-iC6Twp-W"
      }
    },
    {
      "cell_type": "code",
      "source": [
        "scaler = MinMaxScaler(feature_range=(0, 10))                                      # regularization\n",
        "\n",
        "X = scaler.fit_transform(X2)\n",
        "\n",
        "\n",
        "\n",
        "scaler = MinMaxScaler(feature_range=(0, 30))\n",
        "\n",
        "Y = scaler.fit_transform(Y2)\n",
        "\n",
        "print(X)\n",
        "print(Y)"
      ],
      "metadata": {
        "id": "4J3dxDO9wops"
      },
      "execution_count": null,
      "outputs": []
    },
    {
      "cell_type": "code",
      "source": [
        "print(X.shape)\n",
        "print(Y.shape)"
      ],
      "metadata": {
        "colab": {
          "base_uri": "https://localhost:8080/"
        },
        "id": "ZxB0dyuHm0Fo",
        "outputId": "56fa0d11-2a04-4b4d-f015-1b0ac3461aab"
      },
      "execution_count": null,
      "outputs": [
        {
          "output_type": "stream",
          "name": "stdout",
          "text": [
            "(145, 30)\n",
            "(145, 1)\n"
          ]
        }
      ]
    }
  ]
}